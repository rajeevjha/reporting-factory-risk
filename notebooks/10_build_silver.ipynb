{
 "cells": [
  {
   "cell_type": "markdown",
   "metadata": {
    "application/vnd.databricks.v1+cell": {
     "cellMetadata": {
      "byteLimit": 2048000,
      "rowLimit": 10000
     },
     "inputWidgets": {},
     "nuid": "d4c20c90-c085-408b-a0ef-4af198d5b07b",
     "showTitle": false,
     "tableResultSettingsMap": {},
     "title": ""
    }
   },
   "source": [
    "# 10 – Build Silver"
   ]
  },
  {
   "cell_type": "code",
   "execution_count": 0,
   "metadata": {
    "application/vnd.databricks.v1+cell": {
     "cellMetadata": {
      "byteLimit": 2048000,
      "rowLimit": 10000
     },
     "inputWidgets": {},
     "nuid": "5223324f-f0b4-4932-bfa2-ed07d2cd57ac",
     "showTitle": false,
     "tableResultSettingsMap": {},
     "title": ""
    }
   },
   "outputs": [],
   "source": [
    "# ──────────────────────────────────────────────────────────────\n",
    "# Simplified Silver Build with NULL → default replacements\n",
    "# ──────────────────────────────────────────────────────────────\n",
    "\n",
    "dbutils.widgets.text(\"CATALOG\", \"reporting_factory_risk_profile\")\n",
    "catalog = dbutils.widgets.get(\"CATALOG\")\n",
    "\n",
    "spark.sql(f\"USE CATALOG {catalog}\")\n",
    "spark.sql(\"CREATE SCHEMA IF NOT EXISTS silver\")\n",
    "spark.sql(\"USE SCHEMA silver\")\n",
    "\n",
    "# Stable borrower_id when member_id is null\n",
    "borrower_id_expr = \"COALESCE(CAST(member_id AS STRING), CONCAT('M_', sha2(CAST(id AS STRING), 256)))\"\n",
    "\n",
    "# --- silver.loans -------------------------------------------------------------\n",
    "spark.sql(f\"\"\"\n",
    "CREATE OR REPLACE TABLE silver.loans AS\n",
    "SELECT DISTINCT\n",
    "  CAST(id AS STRING) AS loan_id,\n",
    "  {borrower_id_expr} AS borrower_id,\n",
    "  CAST(loan_amnt AS DOUBLE) AS loan_amount,\n",
    "  CAST(regexp_replace(COALESCE(int_rate,''),'[% ]','') AS DOUBLE) AS interest_rate,\n",
    "  CAST(regexp_extract(COALESCE(term,''),'\\\\d+',0) AS INT) AS term_months,\n",
    "  CAST(grade AS STRING) AS grade,\n",
    "  to_date(CAST(issue_d AS STRING),'MMM-yyyy') AS issue_date\n",
    "FROM bronze.lending_raw\n",
    "WHERE id IS NOT NULL\n",
    "\"\"\")\n",
    "\n",
    "# --- silver.borrowers ---------------------------------------------------------\n",
    "# Replace bad/null DTI, utilization, FICO with safe defaults\n",
    "spark.sql(f\"\"\"\n",
    "CREATE OR REPLACE TABLE silver.borrowers AS\n",
    "SELECT DISTINCT\n",
    "  {borrower_id_expr} AS borrower_id,\n",
    "  -- replace null or NaN with 0\n",
    "  COALESCE(NULLIF(regexp_replace(CAST(dti AS STRING), '[^0-9\\\\.-]', ''), ''), '0') AS dti_str,\n",
    "  COALESCE(NULLIF(regexp_replace(CAST(revol_util AS STRING), '[^0-9\\\\.-]', ''), ''), '0') AS util_str,\n",
    "  COALESCE(NULLIF(regexp_replace(CAST(annual_inc AS STRING), '[^0-9\\\\.-]', ''), ''), '0') AS inc_str,\n",
    "  COALESCE(NULLIF(regexp_replace(CAST(fico_range_high AS STRING), '[^0-9\\\\.-]', ''), ''), '0') AS fico_str\n",
    "FROM bronze.lending_raw\n",
    "WHERE id IS NOT NULL\n",
    "\"\"\")\n",
    "\n",
    "# Cast cleaned strings to numeric safely\n",
    "spark.sql(\"\"\"\n",
    "CREATE OR REPLACE TABLE silver.borrowers AS\n",
    "SELECT\n",
    "  borrower_id,\n",
    "  CAST(dti_str AS DOUBLE)        AS dti,\n",
    "  CAST(inc_str AS DOUBLE)        AS annual_income,\n",
    "  CAST(util_str AS DOUBLE)       AS utilization,\n",
    "  CAST(fico_str AS INT)          AS fico_score\n",
    "FROM silver.borrowers\n",
    "\"\"\")\n",
    "\n",
    "print(\"✅ Silver build complete — NULLs replaced with defaults (0).\")"
   ]
  }
 ],
 "metadata": {
  "application/vnd.databricks.v1+notebook": {
   "computePreferences": null,
   "dashboards": [],
   "environmentMetadata": null,
   "inputWidgetPreferences": null,
   "language": "python",
   "notebookMetadata": {
    "pythonIndentUnit": 4
   },
   "notebookName": "10_build_silver",
   "widgets": {
    "CATALOG": {
     "currentValue": "reporting_factory_risk_profile",
     "nuid": "b6609a6f-c4dd-4bef-8194-582c2c4e4b3f",
     "typedWidgetInfo": {
      "autoCreated": false,
      "defaultValue": "reporting_factory_risk_profile",
      "label": null,
      "name": "CATALOG",
      "options": {
       "widgetDisplayType": "Text",
       "validationRegex": null
      },
      "parameterDataType": "String"
     },
     "widgetInfo": {
      "widgetType": "text",
      "defaultValue": "reporting_factory_risk_profile",
      "label": null,
      "name": "CATALOG",
      "options": {
       "widgetType": "text",
       "autoCreated": null,
       "validationRegex": null
      }
     }
    }
   }
  },
  "kernelspec": {
   "display_name": "Python 3",
   "language": "python",
   "name": "python3"
  },
  "language_info": {
   "name": "python"
  }
 },
 "nbformat": 4,
 "nbformat_minor": 0
}

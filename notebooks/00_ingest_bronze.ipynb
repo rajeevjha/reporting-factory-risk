{
 "cells": [
  {
   "cell_type": "markdown",
   "metadata": {
    "application/vnd.databricks.v1+cell": {
     "cellMetadata": {
      "byteLimit": 2048000,
      "rowLimit": 10000
     },
     "inputWidgets": {},
     "nuid": "50928c88-9e80-48d9-93a1-a929109b13e4",
     "showTitle": false,
     "tableResultSettingsMap": {},
     "title": ""
    }
   },
   "source": [
    "# 00 – Ingest Bronze\n",
    "Fill placeholders via widgets or Job params."
   ]
  },
  {
   "cell_type": "code",
   "execution_count": 0,
   "metadata": {
    "application/vnd.databricks.v1+cell": {
     "cellMetadata": {
      "byteLimit": 2048000,
      "rowLimit": 10000
     },
     "inputWidgets": {},
     "nuid": "339e5442-aa7d-4770-829d-146c14782106",
     "showTitle": false,
     "tableResultSettingsMap": {},
     "title": ""
    }
   },
   "outputs": [],
   "source": [
    "# ──────────────────────────────────────────────────────────────\n",
    "# Bronze Ingestion Notebook  (10_bronze_ingest)\n",
    "# ──────────────────────────────────────────────────────────────\n",
    "\n",
    "# Widgets\n",
    "dbutils.widgets.text(\"CATALOG\", \"reporting_factory_risk_profile\")\n",
    "dbutils.widgets.text(\"RAW_PATH\", \"abfss://raw@riskprofilestorageacct.dfs.core.windows.net/lending_club/\")\n",
    "catalog = dbutils.widgets.get(\"CATALOG\")\n",
    "raw_path = dbutils.widgets.get(\"RAW_PATH\")\n",
    "\n",
    "# ── ADLS key setup ────────────────────────────────────────────\n",
    "key = dbutils.secrets.get(scope=\"adls-riskprofile-secrets\", key=\"adls-riskprofile-key\")\n",
    "spark.conf.set(\n",
    "    \"fs.azure.account.key.riskprofilestorageacct.dfs.core.windows.net\",\n",
    "    key\n",
    ")\n",
    "\n",
    "# ── Context ──────────────────────────────────────────────────\n",
    "spark.sql(f\"USE CATALOG {catalog}\")\n",
    "spark.sql(\"CREATE SCHEMA IF NOT EXISTS bronze\")\n",
    "spark.sql(\"USE SCHEMA bronze\")\n",
    "\n",
    "# ── Read raw CSVs ─────────────────────────────────────────────\n",
    "# IMPORTANT: force all columns to STRING to avoid schema merge issues later.\n",
    "df = (\n",
    "    spark.read\n",
    "        .option(\"header\", True)\n",
    "        .option(\"inferSchema\", False)      # ← no type inference\n",
    "        .option(\"escape\", \"\\\"\")\n",
    "        .csv(f\"{raw_path}*.csv\")\n",
    ")\n",
    "\n",
    "# Sanitize column names (remove spaces, special chars)\n",
    "for c in df.columns:\n",
    "    df = df.withColumnRenamed(c, c.strip().replace(\" \", \"_\").replace(\"%\", \"pct\").lower())\n",
    "\n",
    "# ── Write to Delta ────────────────────────────────────────────\n",
    "# Safe: overwrite bronze table each load (or use append if you partition by date)\n",
    "(\n",
    "    df.write\n",
    "      .mode(\"overwrite\")\n",
    "      .format(\"delta\")\n",
    "      .option(\"overwriteSchema\", \"true\")\n",
    "      .saveAsTable(\"bronze.lending_raw\")\n",
    ")\n",
    "\n",
    "print(f\"✅ Bronze loaded successfully → {catalog}.bronze.lending_raw\")\n",
    "print(f\"Rows: {df.count()}, Columns: {len(df.columns)}\")"
   ]
  }
 ],
 "metadata": {
  "application/vnd.databricks.v1+notebook": {
   "computePreferences": null,
   "dashboards": [],
   "environmentMetadata": null,
   "inputWidgetPreferences": null,
   "language": "python",
   "notebookMetadata": {
    "pythonIndentUnit": 4
   },
   "notebookName": "00_ingest_bronze",
   "widgets": {
    "CATALOG": {
     "currentValue": "reporting_factory_risk_profile",
     "nuid": "1fedbe46-8ba7-4248-9937-8ba3934b5cdd",
     "typedWidgetInfo": {
      "autoCreated": false,
      "defaultValue": "reporting_factory_risk_profile",
      "label": null,
      "name": "CATALOG",
      "options": {
       "widgetDisplayType": "Text",
       "validationRegex": null
      },
      "parameterDataType": "String"
     },
     "widgetInfo": {
      "widgetType": "text",
      "defaultValue": "reporting_factory_risk_profile",
      "label": null,
      "name": "CATALOG",
      "options": {
       "widgetType": "text",
       "autoCreated": null,
       "validationRegex": null
      }
     }
    },
    "RAW_PATH": {
     "currentValue": "abfss://raw@riskprofilestorageacct.dfs.core.windows.net/lending_club/",
     "nuid": "b151fc60-63a7-4434-aa06-2de0d9607286",
     "typedWidgetInfo": {
      "autoCreated": false,
      "defaultValue": "abfss://raw@riskprofilestorageacct.dfs.core.windows.net/lending_club/",
      "label": null,
      "name": "RAW_PATH",
      "options": {
       "widgetDisplayType": "Text",
       "validationRegex": null
      },
      "parameterDataType": "String"
     },
     "widgetInfo": {
      "widgetType": "text",
      "defaultValue": "abfss://raw@riskprofilestorageacct.dfs.core.windows.net/lending_club/",
      "label": null,
      "name": "RAW_PATH",
      "options": {
       "widgetType": "text",
       "autoCreated": null,
       "validationRegex": null
      }
     }
    }
   }
  },
  "kernelspec": {
   "display_name": "Python 3",
   "language": "python",
   "name": "python3"
  },
  "language_info": {
   "name": "python"
  }
 },
 "nbformat": 4,
 "nbformat_minor": 0
}

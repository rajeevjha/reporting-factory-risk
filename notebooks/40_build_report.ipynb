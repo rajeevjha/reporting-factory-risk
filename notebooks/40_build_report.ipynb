{
 "cells": [
  {
   "cell_type": "markdown",
   "metadata": {
    "application/vnd.databricks.v1+cell": {
     "cellMetadata": {},
     "inputWidgets": {},
     "nuid": "13960c38-8641-4a4a-8708-ce5d31141e82",
     "showTitle": false,
     "tableResultSettingsMap": {},
     "title": ""
    }
   },
   "source": [
    "# 40 – Build Draft Report"
   ]
  },
  {
   "cell_type": "code",
   "execution_count": 0,
   "metadata": {
    "application/vnd.databricks.v1+cell": {
     "cellMetadata": {
      "byteLimit": 2048000,
      "rowLimit": 10000
     },
     "inputWidgets": {},
     "nuid": "47049880-6602-44fc-86ab-1fda6df9a8f6",
     "showTitle": false,
     "tableResultSettingsMap": {},
     "title": ""
    }
   },
   "outputs": [],
   "source": [
    "from datetime import datetime\n",
    "dbutils.widgets.text(\"CATALOG\",\"reporting_factory_risk_profile\")\n",
    "catalog = dbutils.widgets.get(\"CATALOG\")\n",
    "spark.sql(f\"USE CATALOG {catalog}\")\n",
    "spark.sql(\"USE SCHEMA gold\")\n",
    "\n",
    "run_id = f\"RR_{datetime.utcnow().strftime('%Y%m%d_%H%M%S')}\"\n",
    "spark.sql(f\"INSERT INTO gold.report_runs VALUES ('{run_id}','Risk Report','DRAFT','rules@current',current_timestamp(),NULL,NULL,NULL)\")\n",
    "\n",
    "spark.sql(\"\"\"\n",
    "CREATE OR REPLACE TEMP VIEW _kpi AS\n",
    "SELECT 'loans_total' as metric, 'all' as dimension, count(*)*1.0 as value FROM gold.risk_eval\n",
    "UNION ALL\n",
    "SELECT 'high_risk_count','all', sum(CASE WHEN risk_band='High' OR risk_points>=20 THEN 1 ELSE 0 END) FROM gold.risk_eval\n",
    "UNION ALL\n",
    "SELECT 'avg_dti','all', avg(dti) FROM gold.risk_eval\n",
    "UNION ALL\n",
    "SELECT 'avg_fico','all', avg(fico_score) FROM gold.risk_eval\n",
    "\"\"\")\n",
    "\n",
    "spark.sql(f\"DELETE FROM gold.report_facts WHERE report_run_id = '{run_id}'\")\n",
    "spark.sql(f\"INSERT INTO gold.report_facts SELECT '{run_id}', metric, dimension, value FROM _kpi\")\n",
    "print(f\"Draft report created: {run_id}\")\n"
   ]
  }
 ],
 "metadata": {
  "application/vnd.databricks.v1+notebook": {
   "computePreferences": null,
   "dashboards": [],
   "environmentMetadata": null,
   "inputWidgetPreferences": null,
   "language": "python",
   "notebookMetadata": {
    "pythonIndentUnit": 4
   },
   "notebookName": "40_build_report",
   "widgets": {
    "CATALOG": {
     "currentValue": "reporting_factory_risk_profile",
     "nuid": "c5ed831b-d444-4a3f-9e9a-69c7d5fc056d",
     "typedWidgetInfo": {
      "autoCreated": false,
      "defaultValue": "reporting_factory_risk_profile",
      "label": null,
      "name": "CATALOG",
      "options": {
       "widgetDisplayType": "Text",
       "validationRegex": null
      },
      "parameterDataType": "String"
     },
     "widgetInfo": {
      "widgetType": "text",
      "defaultValue": "reporting_factory_risk_profile",
      "label": null,
      "name": "CATALOG",
      "options": {
       "widgetType": "text",
       "autoCreated": false,
       "validationRegex": null
      }
     }
    }
   }
  },
  "kernelspec": {
   "display_name": "Python 3",
   "language": "python",
   "name": "python3"
  },
  "language_info": {
   "name": "python"
  }
 },
 "nbformat": 4,
 "nbformat_minor": 0
}

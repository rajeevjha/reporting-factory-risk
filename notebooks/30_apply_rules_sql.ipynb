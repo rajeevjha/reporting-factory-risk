{
 "cells": [
  {
   "cell_type": "markdown",
   "metadata": {
    "application/vnd.databricks.v1+cell": {
     "cellMetadata": {},
     "inputWidgets": {},
     "nuid": "4d239080-7468-411b-9471-9b6cfdfb7279",
     "showTitle": false,
     "tableResultSettingsMap": {},
     "title": ""
    }
   },
   "source": [
    "# 30 – Apply Rules (Dynamic SQL)"
   ]
  },
  {
   "cell_type": "code",
   "execution_count": 0,
   "metadata": {
    "application/vnd.databricks.v1+cell": {
     "cellMetadata": {
      "byteLimit": 2048000,
      "rowLimit": 10000
     },
     "inputWidgets": {},
     "nuid": "c4e8d2bd-0a5a-442b-97f7-02188299a4b9",
     "showTitle": false,
     "tableResultSettingsMap": {},
     "title": ""
    }
   },
   "outputs": [],
   "source": [
    "from pyspark.sql import functions as F\n",
    "dbutils.widgets.text(\"CATALOG\",\"reporting_factory_risk_profile\")\n",
    "catalog = dbutils.widgets.get(\"CATALOG\")\n",
    "spark.sql(f\"USE CATALOG {catalog}\")\n",
    "spark.sql(\"USE SCHEMA gold\")\n",
    "\n",
    "# Ensure control tables exist and seed (optional to run separately)\n",
    "spark.sql(f\"\"\"\n",
    "CREATE TABLE IF NOT EXISTS control.risk_rules\n",
    "(rule_id STRING, name STRING, segment STRING, condition_sql STRING,\n",
    " impact_column STRING, impact_value STRING, priority INT, enabled BOOLEAN,\n",
    " effective_from DATE, effective_to DATE, owner STRING, notes STRING)\n",
    "USING DELTA;\n",
    "\"\"\")\n",
    "\n",
    "f = spark.table(\"gold.features\").alias(\"f\")\n",
    "r = spark.table(f\"{catalog}.control.risk_rules\").where(\"enabled = true AND current_date BETWEEN effective_from AND coalesce(effective_to, date'2999-12-31')\")\n",
    "\n",
    "matches = None\n",
    "for row in r.collect():\n",
    "    pred = row[\"condition_sql\"]\n",
    "    part = f.selectExpr(\n",
    "        \"loan_id\",\n",
    "        f\"'{row['rule_id']}' as rule_id\",\n",
    "        f\"'{row['impact_column']}' as impact_column\",\n",
    "        f\"'{row['impact_value']}' as impact_value\",\n",
    "        f\"{row['priority']} as priority\"\n",
    "    ).where(pred)\n",
    "    matches = part if matches is None else matches.unionByName(part)\n",
    "\n",
    "if matches is None:\n",
    "    spark.sql(\"\"\"CREATE OR REPLACE TABLE gold.risk_eval AS\n",
    "                 SELECT f.*, array() as matched_rules, 'Medium' as risk_band, 0 as risk_points\n",
    "                 FROM gold.features f\"\"\")\n",
    "else:\n",
    "    from pyspark.sql.window import Window\n",
    "    w = Window.partitionBy(\"loan_id\",\"impact_column\").orderBy(F.desc(\"priority\"))\n",
    "    top = matches.withColumn(\"rn\", F.row_number().over(w)).where(\"rn=1\")\n",
    "    scored = (f.join(top, on=\"loan_id\", how=\"left\")\n",
    "                .groupBy(f.columns)\n",
    "                .agg(F.collect_list(\"rule_id\").alias(\"matched_rules\"),\n",
    "                     F.max(F.when(F.col(\"impact_column\")==\"risk_band\", F.col(\"impact_value\"))).alias(\"risk_band\"),\n",
    "                     F.sum(F.when(F.col(\"impact_column\")==\"risk_points\",\n",
    "                                  F.regexp_extract(F.col(\"impact_value\"), \"[-+]?\\d+\", 0).cast(\"int\")).otherwise(0)).alias(\"risk_points\")))\n",
    "    (scored.withColumn(\"matched_rules\", F.when(F.col(\"matched_rules\").isNull(), F.array()).otherwise(F.col(\"matched_rules\")))\n",
    "           .write.mode(\"overwrite\").saveAsTable(\"gold.risk_eval\"))\n",
    "print(\"Refreshed gold.risk_eval\")\n"
   ]
  }
 ],
 "metadata": {
  "application/vnd.databricks.v1+notebook": {
   "computePreferences": null,
   "dashboards": [],
   "environmentMetadata": null,
   "inputWidgetPreferences": null,
   "language": "python",
   "notebookMetadata": {
    "pythonIndentUnit": 4
   },
   "notebookName": "30_apply_rules_sql",
   "widgets": {
    "CATALOG": {
     "currentValue": "reporting_factory_risk_profile",
     "nuid": "b50f31ed-6b2d-45a8-b08f-0560d1193e44",
     "typedWidgetInfo": {
      "autoCreated": false,
      "defaultValue": "reporting_factory_risk_profile",
      "label": null,
      "name": "CATALOG",
      "options": {
       "widgetDisplayType": "Text",
       "validationRegex": null
      },
      "parameterDataType": "String"
     },
     "widgetInfo": {
      "widgetType": "text",
      "defaultValue": "reporting_factory_risk_profile",
      "label": null,
      "name": "CATALOG",
      "options": {
       "widgetType": "text",
       "autoCreated": null,
       "validationRegex": null
      }
     }
    }
   }
  },
  "kernelspec": {
   "display_name": "Python 3",
   "language": "python",
   "name": "python3"
  },
  "language_info": {
   "name": "python"
  }
 },
 "nbformat": 4,
 "nbformat_minor": 0
}

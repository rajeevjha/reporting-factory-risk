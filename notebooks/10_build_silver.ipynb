{
 "cells": [
  {
   "cell_type": "markdown",
   "metadata": {
    "application/vnd.databricks.v1+cell": {
     "cellMetadata": {
      "byteLimit": 2048000,
      "rowLimit": 10000
     },
     "inputWidgets": {},
     "nuid": "d4c20c90-c085-408b-a0ef-4af198d5b07b",
     "showTitle": false,
     "tableResultSettingsMap": {},
     "title": ""
    }
   },
   "source": [
    "# 10 – Build Silver"
   ]
  },
  {
   "cell_type": "code",
   "execution_count": 0,
   "metadata": {
    "application/vnd.databricks.v1+cell": {
     "cellMetadata": {
      "byteLimit": 2048000,
      "rowLimit": 10000
     },
     "inputWidgets": {},
     "nuid": "5223324f-f0b4-4932-bfa2-ed07d2cd57ac",
     "showTitle": false,
     "tableResultSettingsMap": {},
     "title": ""
    }
   },
   "outputs": [],
   "source": [
    "dbutils.widgets.text(\"CATALOG\", \"reporting_factory_risk_profile\")\n",
    "catalog = dbutils.widgets.get(\"CATALOG\")\n",
    "\n",
    "# Set catalog and schema\n",
    "spark.sql(f\"USE CATALOG {catalog}\")\n",
    "spark.sql(\"USE SCHEMA silver\")\n",
    "\n",
    "# Create or replace silver.loans table\n",
    "spark.sql(\n",
    "    f\"\"\"\n",
    "    CREATE OR REPLACE TABLE silver.loans AS\n",
    "    SELECT DISTINCT\n",
    "      CAST(id AS STRING) AS loan_id,\n",
    "      CAST(member_id AS STRING) AS borrower_id,\n",
    "      CAST(loan_amnt AS DOUBLE) AS loan_amount,\n",
    "      CAST(int_rate AS DOUBLE) AS interest_rate,\n",
    "      CAST(term AS STRING) AS term,\n",
    "      CAST(grade AS STRING) AS grade,\n",
    "      CAST(issue_d AS DATE) AS issue_date\n",
    "    FROM {catalog}.bronze.lending_raw\n",
    "    WHERE id IS NOT NULL\n",
    "    \"\"\"\n",
    ")\n",
    "\n",
    "# Create or replace silver.borrowers table\n",
    "spark.sql(\n",
    "    f\"\"\"\n",
    "    CREATE OR REPLACE TABLE silver.borrowers AS\n",
    "    SELECT DISTINCT\n",
    "      CAST(member_id AS STRING) AS borrower_id,\n",
    "      CAST(dti AS DOUBLE) AS dti,\n",
    "      CAST(annual_inc AS DOUBLE) AS annual_income,\n",
    "      CAST(revol_util AS DOUBLE) AS utilization,\n",
    "      CAST(fico_range_high AS INT) AS fico_score\n",
    "    FROM {catalog}.bronze.lending_raw\n",
    "    WHERE member_id IS NOT NULL\n",
    "    \"\"\"\n",
    ")\n",
    "\n",
    "print(\"Silver tables created\")"
   ]
  }
 ],
 "metadata": {
  "application/vnd.databricks.v1+notebook": {
   "computePreferences": null,
   "dashboards": [],
   "environmentMetadata": null,
   "inputWidgetPreferences": null,
   "language": "python",
   "notebookMetadata": {
    "pythonIndentUnit": 4
   },
   "notebookName": "10_build_silver",
   "widgets": {
    "CATALOG": {
     "currentValue": "reporting_factory_risk_profile",
     "nuid": "b6609a6f-c4dd-4bef-8194-582c2c4e4b3f",
     "typedWidgetInfo": {
      "autoCreated": false,
      "defaultValue": "reporting_factory_risk_profile",
      "label": null,
      "name": "CATALOG",
      "options": {
       "widgetDisplayType": "Text",
       "validationRegex": null
      },
      "parameterDataType": "String"
     },
     "widgetInfo": {
      "widgetType": "text",
      "defaultValue": "reporting_factory_risk_profile",
      "label": null,
      "name": "CATALOG",
      "options": {
       "widgetType": "text",
       "autoCreated": null,
       "validationRegex": null
      }
     }
    }
   }
  },
  "kernelspec": {
   "display_name": "Python 3",
   "language": "python",
   "name": "python3"
  },
  "language_info": {
   "name": "python"
  }
 },
 "nbformat": 4,
 "nbformat_minor": 0
}
